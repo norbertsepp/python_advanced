{
 "cells": [
  {
   "cell_type": "markdown",
   "metadata": {
    "vscode": {
     "languageId": "plaintext"
    }
   },
   "source": [
    "<style>\n",
    "img {    \n",
    "    width: 400px;\n",
    "    margin: 20px auto;    \n",
    "    padding: 0.2em;\n",
    "    border: 3px white solid;\n",
    "    display: block;\n",
    "    }\n",
    " </style>"
   ]
  },
  {
   "cell_type": "markdown",
   "metadata": {},
   "source": [
    "Flask tananyag - vázlat\n",
    "\n",
    "1. Kis History\n",
    "   1. Pallets, Dependencies, WSGI (CGI, ASGI)\n",
    "2. telepítsük fel a szükséges komponenseket\n",
    "   1. venv,\n",
    "   2. flask+dependencies\n",
    "   3. sqlite: sqlite.org - download, mkdir Program Files/SQLite, env var path - add path.\n",
    "   4. flask-session\n",
    "3. Egy kis elmélet\n",
    "   1. Mi egy webes alkalmazás, frontend-backend kapcsolat és feladatok\n",
    "   2. API-k, és a REST API\n",
    "      1. REST API fajtái, hol és milyen objektumokban milyen adatok vannak \n",
    "   3. Routing fogalma\n",
    "4. mi a flask alkalmazás \"struktúrája\", mit honnan vesz?\n",
    "5. néhány flask alapelem, render_template, request, Flask\n",
    "6. Hello world - mi van itt?\n",
    "   1. a legegyszerűbb Hello World Flaskban\n",
    "   2. html? - nézzük meg a böngészőben a Dev Toolsban, hogy mi is ment oda\n",
    "   3. Csináljunk egy formot, ami köszönti a usert - hogy kerül oda a név?\n",
    "   4. Jinja template - egyelőre csak a placeholder\n",
    "7. Csináljuk meg GET metódussal, hogy a formból kivett nevet betegye a template-be\n",
    "   1. ismétlődés helyett - layout -> blokkok\n",
    "8. Látszik a URL-ben - ha szenzitív -> POST\n",
    "9.  metódusok kezelésének módjai\n",
    "10. form egy select menüvel, alapértékkel, ennek a kezelése, illetve valamennyi frontend validation\n",
    "   1.  A frontend validation kijátszása a DEv Tools egítségével (register for sports: Football - beírtam, ami nem is volt felkínálva)\n",
    "   2.  Válaszul a Server Side Validation alkalmazása\n",
    "       1.  radio / select\n",
    "       2.  checkbox / multiselect\n",
    "   3.  regisztráció\n",
    "       1.  dictionaryvel - ennek eredményeképp egy redirect is\n",
    "       2.  adatbázissal - sqlite gyorstalpaló\n",
    "           1.  insert into ... values(?, ?) - injection attack escaping\n",
    "           2.  \n"
   ]
  }
 ],
 "metadata": {
  "language_info": {
   "name": "python"
  }
 },
 "nbformat": 4,
 "nbformat_minor": 2
}
