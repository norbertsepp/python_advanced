{
 "cells": [
  {
   "cell_type": "markdown",
   "metadata": {},
   "source": [
    "# Python Advanced<img src=\"python-logo.png\" width=\"150\" align=\"right\">\n",
    "### Toolset 2 - Flask alapok"
   ]
  },
  {
   "cell_type": "markdown",
   "metadata": {},
   "source": [
    "API-k\n",
    "\n",
    "Route-olás (https://www.youtube.com/watch?v=8lN4TSslz-0)"
   ]
  },
  {
   "cell_type": "markdown",
   "metadata": {},
   "source": [
    "Dependency: \n",
    "A Flask a WerkZeug WSGI interfészre, a JINJA template engine-re és a Click CLI toolsetre támaszkodik.\n",
    "\n",
    "WSGI\n",
    "JINJA\n",
    "CLICK"
   ]
  },
  {
   "cell_type": "markdown",
   "metadata": {},
   "source": [
    "telepítsük fel a Flask-ot\n",
    "(virtuális környezetbe is lehet, sőt)\n",
    "\n",
    "`pip install Flask`\n",
    "\n",
    "ellenőrizzük a telepítést: \n",
    "`import flask`\n"
   ]
  },
  {
   "cell_type": "markdown",
   "metadata": {
    "vscode": {
     "languageId": "plaintext"
    }
   },
   "source": [
    "Az alábbi példában egy CRUD-képes, User Authenticationt is tartalmazó webalkalmazást készítünk.\n",
    "\n",
    "1. Létrehozzuk az inicializálásért felelős `__init__.py` fájlt - ez fut majd először a Flask elindításakor. Ebben szerepeljen az import, valamint a create_app függvény, amely példányosítja a Flask appot és visszaadja.\n",
    "```python\n",
    "from flask import Flask\n",
    "\n",
    "def create_app():\n",
    "    app = Flask(__name__)   \n",
    "    return app  \n",
    "```\n",
    "A Flask (mivel \"opinionated\") meghatározott folderek és fájlok, osztályok és függvények együttesét követeli meg. Ez ugyan egy szerteágazó struktúra, de pl. az `__init__.py` jó arra, hogy a legtöbb komponens létrehozását csak egyszer csináljuk meg.    \n",
    "1. Szükség lesz az authentikálásra, majd a jogosult felhasználónál a CRUD tevékenységek ellátására.\n",
    "2. Ezekhez hozzunk létre két fájl `auth.py` és `main.py` néven.\n",
    "A `main.py`-ban a Blueprint osztályt és a render_template függvényt importáljuk. \n",
    "A Blueprint segítségével rendszerezhetjük, milyen fájlstruktúrával dolgozik a Flask alkalmazásunk. A példában main néven egy Blueprintet csinálunk, ami a 'main.py' nevű fájlt a projekthez rendeli (`__name__`):\n",
    "```python\n",
    "main = Blueprint(\"main\", __name__)  \n",
    "```\n",
    "\n",
    "Minden Flask függvényt egy dekorátorral látjuk el, amelynek struktúrája pl.:`@app_name.route()`\n",
    "```python\n",
    "@main.route('/')\n",
    "def index():\n",
    "    return \"Hello world\"\n",
    "```\n",
    "\n",
    "3. Ezt követően az app és a main összekötése is feladat: az app-hoz a main-t (ami, ugye, egy blueprint) kell regisztrálni:\n",
    "```python\n",
    "from main import main as main_blueprint\n",
    "    app.register_blueprint(main_blueprint) \n",
    "```\n",
    "4. Ugyanezeket a lépéseket meg kell tenni az auth.py fájlban (ez lesz a blueprint), illetve ezt is hozzá kell kötni az apphoz az init.py fájlban.\n",
    "\n",
    "```python\n",
    "\n",
    "```\n"
   ]
  },
  {
   "cell_type": "markdown",
   "metadata": {},
   "source": [
    "5. Ahhoz, hogy futtassuk az alkalmazást, előbb exportálni kell a FLASK_APP környezeti változóba a megfelelő könyvtárat.   \n",
    "MacOSX és Linux:\n",
    "```bash\n",
    "$ export FLASK_APP=...\n",
    "$ flask run\n",
    "```\n",
    "\n",
    "Windows CMD:\n",
    "```bash\n",
    "> set FLASK_APP=...\n",
    "> flask run\n",
    "```\n",
    "\n",
    "Windows PowerShell, abból a könyvtárból, amelyen belül a pushups_logger mappa van:   \n",
    "```PowerShell\n",
    "> $env:FLASK_APP = \"pushups_logger\"\n",
    "> flask run\n",
    "```"
   ]
  },
  {
   "cell_type": "markdown",
   "metadata": {},
   "source": [
    "6. Magukat a HTML fájlokat rendereltetni kell, ezt majd a render_template függvény csinálja:\n",
    "```python\n",
    "return render_template('index.html')\n",
    "```\n",
    "7. A HTML template-eket a __templates__ mappában kell elhelyezni, html kiterjesztéssel. Ezek nem teljes HTML5 leírások (hiányzik belőlük pl. a html tag is), majd a template engine állítja össze a közös és az egyedi részekből a konkrét lapokat."
   ]
  },
  {
   "cell_type": "markdown",
   "metadata": {},
   "source": [
    "8. Létrehozzuk a static foldert, ebben lesznek a statikus erőforrások (pl. képek)\n",
    "9. Ha nem akarjuk sokszor leírni ugyanazt a kódot, vagy csak szeretnénk egy olyan elemet, amely minden html-lapunkon közös (pl. egy oldalsávot navigációs résszel), akkor:\n",
    "   1.  template inheritance-t használunk majd\n",
    "   2.  lesz ehhez egy base.html vagy layout.html weblapunk, amely az oldalsávért felel: ebbe a bootstrapet és onnan egy navbart alakítsunk ki;\n",
    "   3.  egyes részei a template-nek feltölthetők (lennének) statikus tartalommal, de a Flaskban sokkal jobban kedvelik az erre a célra készített kódokat és template-tageket, amit a Jinja kezel.\n",
    "   4.  a {% és %} közötti részek a Jinja control statement-jei, utasítások vagy a `block` utasítás.\n",
    "   5.  a {{}} közötti rész változót vagy egyéb python kódot tartalmaz\n",
    "10. miután a base.html létrejött, nézzük meg a template inheritance működését.\n",
    "    1.  az egyes html fájlokban a base template-re is hivatkozni kell, meg arra is, ahol felülírjuk az onnan érkező működést, pl. az index.html így néz majd ki:\n",
    "    ```python\n",
    "    {% extends \"base.html\" %} \n",
    "    {% block head %} {{ super() }}\n",
    "    <link\n",
    "    rel=\"stylesheet\"\n",
    "    link=\"{{ url_for('static', filename='extended_beauty.css')}}\"\n",
    "    >\n",
    "    {% endblock %}\n",
    "    ```\n",
    "    Itt fontos megemlíteni, hogy a template-et miből kiindulva (HTML) szerkesztgetjük, mivel egészítjük ki ({{}} és {%%} kódok), hogy ezt ki fogja majd a Flasknak feldolgozni, illetve hova mi teendő. ugyancsak, hogy a website és az alkalmazás struktúrája milyen.\n",
    "    \n"
   ]
  },
  {
   "cell_type": "markdown",
   "metadata": {},
   "source": [
    "11. A következő lépés a signup és login lehetőségek kialakítása, ezzel kapcsolatban az adatbázis kezelése.\n",
    "12. Mindenekelőtt az API-k és a REST API-kkal kapcsolatos fogalmakat ismerjük meg, ha korábban ez nem lett volna meg, különös tekintettel a POST requestre.\n",
    "13. A signup template-be berakjuk a formra vonatkozó tartalmat. Itt a \n",
    "```python\n",
    "{ %block content % }\n",
    "```\n",
    "részen belül dolgozunk, a header block-ot (a css bootstrap linkekkel együtt) majd a template engine hozzáteszi.\n",
    "14. A formban a \n",
    "```html\n",
    "<form method=\"POST\" action=\"/signup\">\n",
    "```\n",
    "részben két folgot is definiálunk: 1. a gomb megnyomsára POST metódust választunk, 2. hol van az a route, ami ezt feldolgozza (ne feledkezzünk meg a választott változónevekről).\n",
    "15. Módosítani kell az auth file-ban a signup route-ot. Most válasszuk külön a default GET és az új POST metódus route-jait.\n",
    "```python\n",
    "@auth.route('/signup', methods=[\"POST\"])\n",
    "def signup_post():\n",
    "    name = request.form.get(\"name\")\n",
    "    email = request.form.get(\"email\")\n",
    "    password = request.form.get(\"password\")\n",
    "    \n",
    "    print(email, name, password)\n",
    "    \n",
    "    return redirect(url_for('auth.login'))\n",
    "```\n",
    "16. Most az adatbázisok kezelése következik. Egy jól működő webapp perzisztens adatbázist kezel. Ehhez pl. a SQLite3 megfelel. A kényelmes kezeléshez egy ORM (Object-Relational Mapping) kényelmes, ilyen pl. az SQLAlchemy, ami leképezi az SQL számára szükséges elemeket az objektumstruktúrából.   \n",
    "SQLAlchemyt nem kínál a flask, de a flask community megcsinálta, a használatához a flask-sqlalchemy-re lesz szükség.\n",
    "```bash \n",
    "python -m pip install flask-sqlalchemy\n",
    "```"
   ]
  },
  {
   "cell_type": "markdown",
   "metadata": {},
   "source": [
    "17. Meg kell majd csinálni az SQLite3 adatbázist is, ezt egyszerű egy önálló python scriptből vagy parancssorból elintézni:\n",
    "```python\n",
    "import sqlite3\n",
    "\n",
    "try:\n",
    "    conn = sqlite3.connect(\"db.sqlite\")\n",
    "    print(\"Database connected successfully\")\n",
    "except ConnectionError: \n",
    "    print(\"SQLite table connection error!\")\n",
    "\n",
    "SQL_STM = \"\"\"\n",
    "CREATE TABLE IF NOT EXISTS USER\n",
    "         (ID INT PRIMARY KEY     NOT NULL,\n",
    "         EMAIL      CHAR(100)    UNIQUE NOT NULL,\n",
    "         PASSWORD   CHAR(50)     NOT NULL,\n",
    "         NAME       CHAR(100)\n",
    "         );\n",
    "\"\"\"\n",
    "conn.execute(SQL_STM)\n",
    "print(\"Table USER created\")\n",
    "\n",
    "conn.close()\n",
    "```"
   ]
  },
  {
   "cell_type": "markdown",
   "metadata": {},
   "source": [
    "18. Ahhoz, hogy kényelmesen tudjunk dolgozni Flaskból, az SQLAlchemy-ben először a `model`-t kell létrehozni, ez az adatmodellünk alapja, egy osztály, amely definiálja az egyes adatbázis-táblákkal a kapcsolatot. Egy osztály egy tábla (entitás az ERM-ben), a kapcsolatok, a nyilak később jönnek.   \n",
    "A fájlt nevezzük el `models.py` néven.\n",
    "```python\n",
    "from __init__ import db\n",
    "\n",
    "class User(db.Model):\n",
    "    id = db.Column(db.Integer, primary_key=True)\n",
    "    email = db.Column(db.String(100), unique=True)\n",
    "    password = db.Column(db.String(20)) \n",
    "    name = db.Column(db.String(100))\n",
    "```\n",
    "19. Mivel nem akarjuk eltárolni a jelszót cleartextben, hashelni fogjuk, és csak a hasht tároljuk el.\n",
    "```python\n",
    "from werkzeug.security import generate_password_hash\n",
    "```\n",
    "20. Mivel az import rendszerben elakadt a példa, próbáljuk meg hagyományos adatbázis-műveletekkel, amelynek a lépései: \n",
    "- megnyitjuk az adatbázist\n",
    "- elvégezzük a mvűveletet\n",
    "- lezárjuk az adatbázist.\n",
    "Mindezeket természetesen abban a függvényben, ahol épp szükség van rá.\n",
    "Ebben a formában ez a nyitás/zárás rendkívüli overhead, később foglalkozunk vele.\n",
    "A signup függvényben az adatbázisból le kell kérdezni, hogy van-e már megfelelő userünk, ha van, akkor kiírjuk (a console-ra) hogy van már ilyen user, egyébként pedig felviszünk egy újat INSERT INTO SQL utasítással.\n",
    "21. Most a login funkciót valósítjuk meg a Flask-login segítségével, ami több (nem triviális) szolgáltatást is nyújt:\n",
    "- véd a cookie-thiefek ellen\n",
    "- kezeli a Remember Me gombot\n",
    "- kezeli hosszabb távon is a user sessiont\n",
    "- lehetővé teszi, hogy egyes oldalrészletek (pl a Profile) csak authentikált userek számára legyenek láthatók.\n",
    "22. \n",
    "\n",
    "\n",
    "\n",
    "\n",
    "\n"
   ]
  }
 ],
 "metadata": {
  "language_info": {
   "name": "python"
  }
 },
 "nbformat": 4,
 "nbformat_minor": 2
}
