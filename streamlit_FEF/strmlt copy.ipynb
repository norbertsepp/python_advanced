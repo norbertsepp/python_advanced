{
 "cells": [
  {
   "cell_type": "markdown",
   "metadata": {},
   "source": [
    "# Low-code front-end frameworkök\n",
    "Több ilyet is választhatunk (Jó kis kedvcsináló [itt](https://python.plainenglish.io/5-exceptional-python-frameworks-for-frontend-development-fcb7abb87462)):\n",
    "\n",
    "1. [Streamlit](https://docs.streamlit.io/get-started)  ( [itt](https://www.datacamp.com/tutorial/streamlit) egy rövid DC tutorial); limitált\n",
    "2. [Flet](https://flet.dev/) - tutoriálszerű doksi [itt](https://flet.dev/docs/); Flutter-szerű, GUI\n",
    "3. [Solara](https://solara.dev/) - gyors, jól skálázható felfelé\n",
    "4. [Anvil](https://anvil.works/)- van free tier\n",
    "5. [Reactpy](https://reactpy.dev/docs/index.html) - sajnos a doksi sincs kész; ReactJS-szerű\n",
    "6. [Trame](https://kitware.github.io/trame/) - 3D, complex visualization\n",
    "7. [Voila](https://github.com/voila-dashboards/voila)\n",
    "8. [PywebIO](https://pywebio.readthedocs.io/en/latest/)\n",
    "9. [Gradio](https://www.gradio.app)\n",
    "10. [Panel](https://panel.holoviz.org)\n",
    "11. [Plotly DASH](https://dash.plotly.com) -- visszatérünk rá a Flask után, egy jó tutoriál [itt](https://dash.plotly.com/tutorial)\n",
    "12. [NiceGUI](https://nicegui.io)\n",
    "\n",
    "## Mire jók ezek a [frameworkök](https://wiki.python.org/moin/WebFrameworks)?\n",
    "Mit lehet velük megcsinálni, amit nem kell lekódolni - példák, screenshotok    \n",
    "Előnyök: Knowing at least one frontend library will always be advantageous. Presenting machine learning models, creating MVPs or nice demos, being a full-stack data scientist, working on personal projects — these are only some of the reasons why you might want to learn how to write frontend.\n",
    "And when you can write frontend in the language you are already familiar with, it makes it really easy to learn new libraries and use concepts you know already.\n",
    "\n",
    "\n",
    "## Mire való a streamlit?\n",
    "A streamlit egy low-code frontend framework, amellyel gyorsan lehet prototípusnak megfelelő frontendet csinálni. Bár a funkcionalitása korlátozott, kevés speciális tudást igényel, ehhez képest elég sok lehetőséget biztosít.   \n",
    "A Streamlit megtanulásához legegyszerűbb a termékoldali dokumentációt és tutoriálokat végignézni, de [itt](https://www.youtube.com/watch?v=43RJ3JByygE&list=PL2VXyKi-KpYtZzm1K8UKnnBzsOCtekhKq) van egy jó YT-csatorna is.   \n",
    "\n"
   ]
  },
  {
   "cell_type": "markdown",
   "metadata": {},
   "source": [
    "\n",
    "\n",
    "\n",
    "\n",
    "## Mi lehet a backend ezekhez?\n",
    "- frontend-backend ábra\n",
    "- backend lista kiemelve, amit még csinálni tervezünk\n",
    "\n",
    "## Mire való a backend, mi a feladata, ki kódolja le?\n",
    "\n"
   ]
  },
  {
   "cell_type": "markdown",
   "metadata": {},
   "source": [
    "## A streamlit\n",
    "\n",
    "1. definíció, előnyök\n",
    "2. beszerzés, telepítés virtuális környezetbe\n",
    "3. importálás, alap szolgáltatások"
   ]
  },
  {
   "cell_type": "markdown",
   "metadata": {
    "vscode": {
     "languageId": "raw"
    }
   },
   "source": [
    "### Telepítés\n",
    "Célszerű egy virtuális környezetet csinálni, és oda telepíteni a streamlitet.\n"
   ]
  },
  {
   "cell_type": "raw",
   "metadata": {},
   "source": [
    "\n",
    "mkdir streamlit\n",
    "cd streamlit\n",
    "python -m venv venv\n",
    ".venv\\Scripts\\activate\n",
    "pip install streamlit\n",
    "streamlit hello\n",
    "\n",
    "vagy \n",
    "\n",
    "conda install streamlit\n",
    "conda activate"
   ]
  },
  {
   "cell_type": "markdown",
   "metadata": {},
   "source": [
    "A Streamlit architektúrájét a következő ábra mutatja:\n",
    "\n",
    "<img src=\".\\strmlt_arch.png\" width=\"600\">\n",
    "\n",
    "A streamlit kliens-szerver architektúrájú. A backend (server) a Python scriptet olvasgatja, a frontendet egy browser futtatja.\n",
    "\n",
    "Miután a streamlitet feltelepítettük, az alkalmazást \"egyszerű python scriptként\" írjuk meg. (A standard szintaxishoz képest némi változtatással, mert a literálokat nem kell külön argumentumként megadni, a st.write() függvény mégis kiírja majd őket).   \n",
    "A streamlit motor fogja értelmezni a scriptet, tehát nem fogjuk tudni pusztán a Python értelmezővel működésre bírni.   \n",
    "Ahhoz, hogy a streamlit-definíciók értelmezhetők legyenek, a streamlitet importáljuk:   \n",
    "`import streamlit as st`\n",
    "\n",
    "A program futtatására a `streamlit run app_name.py` parancs való, ez a következőket csinálja:   \n",
    "1. Elindít egy streamlit-backendet, amely az app_name.py- programban található Python kód megfelelő részeit feldolgozza, mégpeddig kétféleképpen: egyrészt a python-kódot, másrészt a frontendre vonatkozó utasításokat\n",
    "2. Létrehozza a streamlit-nek szóló definíciók alapján a frontend-elemeket, és összeköti azokat a backend-elemekkel\n",
    "3. Futtatja a webszervert\n",
    "4. Minden widget-interakcióra, illetve a forrás-script változásaira reagálva újra lehívja és értelmezi a scriptbeli definíciókat (ami néha erőforrás-pocsékolás, ezért van benne cache)   \n",
    "\n",
    "Lássuk mindezt a gyakorlatban!"
   ]
  },
  {
   "cell_type": "markdown",
   "metadata": {},
   "source": [
    "### 1. Importálás, kiírás, widgetek"
   ]
  },
  {
   "cell_type": "raw",
   "metadata": {},
   "source": [
    "import streamlit as st\n",
    "st.write(\"hi, this is streamlit running!:\", st.__version__)"
   ]
  },
  {
   "cell_type": "raw",
   "metadata": {
    "vscode": {
     "languageId": "raw"
    }
   },
   "source": [
    "# Adjunk hozzá egyéb streamlit-frontend funkciókat is: title, header, button, raido, checkbox, stb.\n",
    "\n",
    "import streamlit as st\n",
    "st.title(\"This is a Streamlit TUTORIAL\")\n",
    "st.write(\"hi, this is streamlit running!:\", st.__version__)\n",
    "st.header(\"Some nice st stuff\")\n",
    "chk1 = st.checkbox(\"Do you like streamlit?\")\n",
    "button1 = st.button(\"Submit\")\n",
    "if button1:\n",
    "    if chk1:\n",
    "        st.write(\"Happy to hear that!\")\n",
    "    else:\n",
    "        st.write(\"Grrrr\")\n",
    "\n",
    "st.header(\"Radio buttons\")\n",
    "radio1 = st.radio(\"What is your favourite programming language?\", (\"Python\", \"Java\", \"Rust\", \"Go\", \"C++\", \"Haskell\"))\n",
    "if radio1 == \"Python\":\n",
    "    st.write(\"Good user\")\n"
   ]
  },
  {
   "cell_type": "markdown",
   "metadata": {},
   "source": [
    "Amellett, hogy kipróbáltuk a kódot, az is látható, hogy a widgetek meghívásakor a visszatérési értékkel dolgozhatunk, ami értelemszerű az egyes widgeteknél:\n",
    "Button esetében 'bool', Radio esetén a tuple elemeinek típusa, checkboxnál is bool s.í.t.\n",
    "\n",
    "Milyen további widgetek és lehetőségek vannak, és ezekkel hogy kell dolgozni?\n",
    "Van még:\n",
    "- selectbox (iterable-ként megadjuk a választási lehetőségeket, dropdown-lista lesz), \n",
    "- multiselect (iterable-k közül több is kiválasztható, listát ad vissza)\n",
    "- slider (magadhatjuk a tartományt, amiben mozog, illetve a defaultot, ahonnan indul)\n",
    "- text_input(bekérünk adatot, itt is lehet defaultot megadni)\n",
    "- number_input (szám bekérése)\n",
    "- text_area\n",
    "- image (a kép forrását adhatjuk meg, ez lehet URL is, meg egyéb frontendes attribútumokat)"
   ]
  },
  {
   "cell_type": "markdown",
   "metadata": {
    "vscode": {
     "languageId": "raw"
    }
   },
   "source": [
    "### Az egyes lehetőségek strukturálva:\n",
    "A -- A lap alkotóelemei\n",
    "1. Kiírás: \n",
    "   1. write, write_stream, \"magic\"\n",
    "2. Szöveges elemek:\n",
    "   1. Címek: title, header, subheader, markdown\n",
    "   2. Formázott szövegek: caption (magyarázatok, feliratok), code (megadható a nyelv), divider, echo, latex (raw lstring vagy sympy), text\n",
    "3. Adatelemek\n",
    "   1. Dataframe (interaktív tábla: pandas, pyarrow, snowpark, pyspark), data_editor (szerkesztési lehetőség), table (statikus), metric (mért adat, mértékegységgel és változással), json (json vagy azt tartalmazó string)\n",
    "   2. column_config: a táblázat oszlopainak a konfigurálására; egy dictionary-ben az oszlopnévhez rendelhetünk így leírást\n",
    "4. Diagramok, ábrák\n",
    "   1. Egyszerűek (natív streamlit, pontosabban az Altair syntax-sugar-je): area_chart, bar_chart, line_chart, scatter_chart, map (térképre rakott scatterplot - a szórásdiagram elemei szél/hossz koordinátákat adnak meg, a color és size elemek a pont színét, méretét. A nagyítható, görgethető térképcsempéket a MapBox biztosítja, a szolgáltatáshoz tokent kell igényelni, l. [itt](https://docs.streamlit.io/develop/api-reference/charts/st.map): )\n",
    "   2. Más csomagok beillesztése: altair_chart (Altair-Vega), bokeh_chart (Bokeh), graphviz_chart (gráf megjelenítése), plotly_chart (Plotly), pydeck_chart (3D map - Mapboxtól, pontfelhő, stb.), pyplot (matplotlib), vega_lite_chart (Vega-Lite leírónyelv támogatása)\n",
    "5. Input widgetek:\n",
    "   1. Gombok: button (konfigurálható on_click callback), download_button, form_submit_button, linkbutton, page_link\n",
    "   2. Kiválasztók: checkbox, color_picker, multiselect, radio, selectbox, select_slider, toggle\n",
    "   3. Numerikus: number_input, slider\n",
    "   4. Dátum-idő: date_input, time_input\n",
    "   5. Szöveges: chat_input, text_area, text_input\n",
    "   6. Média, fájl: camera_input, data_editor, file_upload\n",
    "6. Médiaelemek:\n",
    "   1. audio, image, video, logo\n",
    "7. Konténerek, layout:\n",
    "   1. columns, container, dialog, empty, expander, form, popover, sidebar, tabs\n",
    "8. Chat elemek:\n",
    "   1. chat_input, chat_message, status, write_stream\n",
    "9. Státusz:\n",
    "   1.  Callout üzenetek: success, info, warning, error, exception\n",
    "   2.  Egyéb: progress (bar), spinner (türelemkérő üzenet), status (egy konténer a státuszüzeneteknek), toast (4 mp-es státuszüzenet jobb alul), balloons (ünneplő lufik), snow (ünneplő hóesés)\n",
    "  \n",
    "B -- Alkalmazás logika\n",
    "1. Navigáció és lapok: navigation, Page, page_link, switch_page\n",
    "2. Végrehajtási logika: dialog (önálló modal), form (több beivteli elem egységét képzi, a form_submit gomb lenyomásáig nincs feldolgozás), form_submit_button, fragment (dekorátor, a függvényt egy töredék, önálló feldogozásúva alakítja, hogy ne kelljen mindig az egész oldalt újra futtatni), rerun, stop \n",
    "3. Cache és állapot: cache_data, cache_resource, session_state, query_params\n",
    "4. Connections: secrets, secrets.toml, connection, SnowflaeConnection, SQLCOnnection, BaseConnection, SnowparkConnection\n",
    "5. Egyedi komponensek: components.v1.declare_component, components.v1.html (html-t iframe-be), components.v1.iframe (remote URL-t iframe-be)\n",
    "6. Segédeszközök: experimental_user (felhasználói adatok), help (egy objektumról), html (custom HTML; JS nem támogatott - veszélyes!)\n",
    "7. Konfiguráció: \n",
    "   1. config.toml: global, logger, client, runner, server, browser, mapbox, deprecation, theme\n",
    "   2. get_option\n",
    "   3. set_option\n",
    "   4. set_page_config"
   ]
  },
  {
   "cell_type": "markdown",
   "metadata": {},
   "source": [
    "### Layout meghatározása\n",
    "\n",
    "A layout beállításának eszközei: sidebar, columns, expander, továbbá _container, tab, dialog, popover_\n",
    "\n",
    "__Sidebar__: (bal) oldalsó elem. Meg kell mondani, itt milyen streamlit-elem szerepeljen, ehhez a dot-notatint használjuk (objektum-jelölés), \n",
    "vagy pedig a `with˙ kulcsszót:\n",
    "```python\n",
    "\n",
    "def clean_text(text):\n",
    "    cleaned = text.replace(\"`\", \"\").replace(\"-\\n\", \"\").replace(\"\\n\", \" \").strip()\n",
    "    return cleaned\n",
    "\n",
    "st.sidebar.header(\"This is the header\")\n",
    "text = st.sidebar.text_area(\"Paste text here\")\n",
    "button1 = st.sidebar.button(\"Clean text\")\n",
    "if button1:\n",
    "    st.write(text)\n",
    "    clean = clean_text(text)\n",
    "    st.write(clean)\n",
    "```\n",
    "\n",
    "__Columns__ - egy adott részt több oszlopba rendez (ezek megadhatók egy számmal, vagy egy iterable-ben felsorolhatjuk az oszlopok relatív szélességét): \n",
    "A fenti kódban cseréljük ki a button1 alatti részt:\n",
    "```python\n",
    "if button1:\n",
    "    col1, col2, col3 = st.columns((0.3, 0.6, 0.1))\n",
    "    col1.header(\"Original text\")\n",
    "    col1.write(text)\n",
    "    col2.header(\"Sanitized text\")\n",
    "    col2.write(clean)\n",
    "    col3.caption(\"Cool!\")\n",
    "```\n",
    "\n",
    "__Expander__ - egy kinyitható elem, ami alapértelmezetten nem kell, hogy foglalja a képernyőterületet.   \n",
    "Ugyancsak a button1 alatti részt módosítsuk:\n",
    "```python\n",
    "if button1:\n",
    "    col1, col2 = st.columns(2)\n",
    "    col1_expander = col1.expander(\"Click to see original\")\n",
    "\n",
    "    col1_expander.header(\"Original Text\")\n",
    "    col1_expander.write(text)\n",
    "    col2.header(\"Sanitized text\")\n",
    "    clean = clean_text(text)\n",
    "    col2.write(clean)\n",
    "```\n",
    "Ismerkedjünk meg a `with` szintaxissal is:\n",
    "```python\n",
    "if button1:\n",
    "    col1, col2 = st.columns(2)\n",
    "    col1_expander = col1.expander(\"Expand Original\")\n",
    "    with col1_expander:\n",
    "        st.write(text)\n",
    "    col2_expander = col2.expander(\"Expand Cleaned\")\n",
    "    clean = clean_text(text)\n",
    "    col2_expander.write(clean)\n",
    "```\n",
    "\n",
    "Az __image__ használata magától értetődő:\n",
    "```python\n",
    "st.sidebar.image(\"https://www.python.org/static/community_logos/python-logo-master-v3-TM.png\", width=\"200\", caption=\"The Python Logo\")\n",
    "```"
   ]
  },
  {
   "cell_type": "markdown",
   "metadata": {},
   "source": [
    "### Formok\n",
    "\n",
    "Hogy ne kelljen minden adatelem-változás után a streamlitnek futtatni az egész (esetéeg lassú ) scriptet, egyes elemeket \"becsomagolunk\" a formba; ehhez tartozik egy form-submit-button, csak ennek elküldésével lesz újra futtatva a script, addig a beviteli adatokkal nyugodtan szórakozhatunk.\n",
    "elemek: form és form_submit_button, illetve minden egyéb widget, a form mint wrapper alatt."
   ]
  },
  {
   "cell_type": "markdown",
   "metadata": {},
   "source": [
    "### Adatbázis beolvasása, [cache](https://docs.streamlit.io/develop/concepts/architecture/caching)-elés"
   ]
  },
  {
   "cell_type": "markdown",
   "metadata": {},
   "source": [
    "### Multipage app létrehozása"
   ]
  },
  {
   "cell_type": "markdown",
   "metadata": {},
   "source": [
    "### Multipage app létrehozása"
   ]
  },
  {
   "cell_type": "markdown",
   "metadata": {},
   "source": [
    "### Adatbázis beolvasása, cache-elés"
   ]
  }
 ],
 "metadata": {
  "kernelspec": {
   "display_name": "Python 3",
   "language": "python",
   "name": "python3"
  },
  "language_info": {
   "codemirror_mode": {
    "name": "ipython",
    "version": 3
   },
   "file_extension": ".py",
   "mimetype": "text/x-python",
   "name": "python",
   "nbconvert_exporter": "python",
   "pygments_lexer": "ipython3",
   "version": "3.12.0"
  }
 },
 "nbformat": 4,
 "nbformat_minor": 2
}
