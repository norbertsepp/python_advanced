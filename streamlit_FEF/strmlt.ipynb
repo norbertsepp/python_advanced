{
 "cells": [
  {
   "cell_type": "markdown",
   "metadata": {},
   "source": [
    "# Python Advanced<img src=\"python-logo.png\" width=\"150\" align=\"right\">\n",
    "### Toolset 1 - Front-end frameworkök"
   ]
  },
  {
   "cell_type": "markdown",
   "metadata": {},
   "source": [
    "## <font color=\"red\">Előnyök: </font>   \n",
    "\n",
    "> Knowing at least one frontend library will always be advantageous. Presenting machine learning models, creating MVPs or nice demos, being a full-stack data scientist, working on personal projects — these are only some of the reasons why you might want to learn how to write frontend.\n",
    "And when you can write frontend in the language you are already familiar with, it makes it really easy to learn new libraries and use concepts you know already."
   ]
  },
  {
   "cell_type": "markdown",
   "metadata": {},
   "source": [
    "# Low-code front-end frameworkök\n",
    "Több ilyet is választhatunk (Jó kis kedvcsináló [itt](https://python.plainenglish.io/5-exceptional-python-frameworks-for-frontend-development-fcb7abb87462)):\n",
    "\n",
    "1. *[Streamlit](https://docs.streamlit.io/get-started)  ( [itt](https://www.datacamp.com/tutorial/streamlit) egy rövid DC tutorial); limitált\n",
    "2. *[NiceGUI](https://nicegui.io) - egyszerű, könnyen használható, kicsit korlátozott, de megéri átnézni\n",
    "3. *[Solara](https://solara.dev/) - gyors, jól skálázható felfelé\n",
    "5. [Anvil](https://anvil.works/)- van free tier\n",
    "6. [Reactpy](https://reactpy.dev/docs/index.html) - sajnos a doksi sincs kész; ReactJS-szerű\n",
    "8. [Voila](https://github.com/voila-dashboards/voila)\n",
    "9. [PywebIO](https://pywebio.readthedocs.io/en/latest/)\n",
    "10. [Gradio](https://www.gradio.app)\n",
    "11. [Panel](https://panel.holoviz.org)\n",
    "12. [Trame](https://kitware.github.io/trame/) - 3D, complex visualization\n",
    "13. [Plotly DASH](https://dash.plotly.com) -- visszatérünk rá a Flask után, van egy jó tutoriál [itt](https://dash.plotly.com/tutorial)\n",
    "14.  [Flet](https://flet.dev/) - tutoriálszerű doksi [itt](https://flet.dev/docs/); Flutter-szerű, GUI\n",
    "15.  "
   ]
  },
  {
   "cell_type": "markdown",
   "metadata": {},
   "source": [
    "### Frameworkök összehasonlítása\n",
    "<style>\n",
    "img {    \n",
    "    width: 1400px;\n",
    "    margin: 20px auto;    \n",
    "    padding: 0.2em;\n",
    "    border: 3px white solid;\n",
    "    display: block;\n",
    "    }\n",
    " </style>\n",
    "<img src=\"proscons.png\">"
   ]
  },
  {
   "cell_type": "markdown",
   "metadata": {},
   "source": [
    "## Mire jók ezek a [frameworkök](https://wiki.python.org/moin/WebFrameworks)?\n",
    "<style>\n",
    "img {    \n",
    "    width: 1000px;\n",
    "    margin: 20px auto;    \n",
    "    padding: 0.2em;\n",
    "    border: 3px white solid;\n",
    "    display: block;\n",
    "    }\n",
    " </style>\n",
    "### Streamlit példák\n",
    "<div>\n",
    "<img src=\"str1.png\">\n",
    "<img src=\"str2.png\">\n",
    "<img src=\"str3.png\">\n",
    "<img src=\"str4.png\">\n",
    "<img src=\"str5.png\">\n",
    "</div>"
   ]
  },
  {
   "cell_type": "markdown",
   "metadata": {},
   "source": [
    "### Egyéb példák\n",
    "<style>\n",
    "img {    \n",
    "    width: 1000px;\n",
    "    margin: 20px auto;    \n",
    "    padding: 0.2em;\n",
    "    border: 3px white solid;\n",
    "    display: block;\n",
    "    }\n",
    " </style>\n",
    "<div>\n",
    "<h1>Solara</h1>\n",
    "<img src=\"sol1.png\">\n",
    "<img src=\"sol2.png\">\n",
    "<img src=\"sol3.png\">\n",
    "</div>\n",
    "<div>\n",
    "<h1>NiceGUI</h1>\n",
    "<img src=\"niceg.webp\">\n",
    "</div>"
   ]
  },
  {
   "cell_type": "markdown",
   "metadata": {},
   "source": [
    "## Mire valók ezek a frameworkök?\n",
    "A low-code frontend frameworkök előnye, hogy gyorsan lehet elég szép frontendet csinálni.   \n",
    "(Low-code abban az értelemben, hogy ha Pythonban tudsz programozni, nem kell HTML+CSS+JS tudás, sem más framework ismerete.)    \n",
    "Bár sokak szerint pl. a Streamlit funkcionalitása korlátozott, kevés speciális tudást igényel, ehhez képest elég sok lehetőséget biztosít. \n",
    "\n",
    "_A Streamlit megtanulásához legegyszerűbb a termékoldali dokumentációt és tutoriálokat végignézni, de [itt](https://www.youtube.com/watch?v=43RJ3JByygE&list=PL2VXyKi-KpYtZzm1K8UKnnBzsOCtekhKq) van egy egész jó YT-csatorna is._"
   ]
  },
  {
   "cell_type": "markdown",
   "metadata": {},
   "source": [
    "## Frontend-backend\n",
    "<style>\n",
    "img {    \n",
    "    width: 1000px;\n",
    "    margin: 20px auto;    \n",
    "    padding: 0.2em;\n",
    "    border: 3px white solid;\n",
    "    display: block;\n",
    "    }\n",
    " </style>\n",
    "<img src=\"streamlit_arch.png\">"
   ]
  },
  {
   "cell_type": "markdown",
   "metadata": {},
   "source": [
    "A frontend (kliens) egy böngésző, ez felel a megjelenítésért, ezzel lép interakcióba a felhasználó.   \n",
    "Itt látszanak a vizuális elemek, amelyek HTML+CSS+JS segítségével működnek.   \n",
    "Míg a frontendesek ezt maguk állítják elő, minden elemet kézben tartva, és a backend szerver ezeket csak tárolja, majd kérésre elküldi, addig egy low-code frontend framework csak bizonyos definíciókat kér tőlünk, és ez alapján legyártja a kicsit testreszabott szabványelemeket (gomb, beviteli mező, bekezdés...). "
   ]
  },
  {
   "cell_type": "markdown",
   "metadata": {},
   "source": [
    "<style>\n",
    "img {    \n",
    "    width: 1000px;\n",
    "    margin: 20px auto;    \n",
    "    padding: 0.2em;\n",
    "    border: 3px white solid;\n",
    "    display: block;\n",
    "    }\n",
    " </style>\n",
    " <img src=\"streamlit_arch2.png\">"
   ]
  },
  {
   "cell_type": "markdown",
   "metadata": {},
   "source": [
    "## A streamlit jellemzői\n",
    "- Open-source, \n",
    "- ingyenes, \n",
    "- low-code, \n",
    "- gyengén \"opinionated\" (~dogmatikus)\n",
    "- normálisan néz ki, \n",
    "- népszerű, \n",
    "- van hozzá sok hasznos kiegészítő, \n",
    "- közösség van mögötte + jó tutoriálok\n",
    "- \"korlátozott\"? ==> open-source + aktív közösség --> folyamatosan egyre gazdagabb funkcionalitás várható."
   ]
  },
  {
   "cell_type": "markdown",
   "metadata": {},
   "source": [
    "A Streamlit kliens-szerver architektúrájú.   \n",
    "A backend (server) a Python scriptet olvasgatja, a frontendet egy browser futtatja.   \n",
    "A főbb komponensek:"
   ]
  },
  {
   "cell_type": "markdown",
   "metadata": {},
   "source": [
    "\n",
    "<style>\n",
    "img {    \n",
    "    width: 1000px;\n",
    "    margin: 20px auto;    \n",
    "    padding: 0.2em;\n",
    "    border: 3px white solid;\n",
    "    display: block;\n",
    "    }\n",
    " </style>\n",
    "<img src=\".\\streamlit_comp1.png\">\n"
   ]
  },
  {
   "cell_type": "markdown",
   "metadata": {},
   "source": [
    "### Telepítés\n",
    "Célszerű egy virtuális környezetet csinálni, és oda telepíteni a streamlitet:\n",
    "\n",
    "```python\n",
    "mkdir streamlit\n",
    "cd streamlit\n",
    "python -m venv venv\n",
    ".venv\\Scripts\\activate\n",
    "pip install streamlit\n",
    "streamlit hello\n",
    "\n",
    "vagy \n",
    "\n",
    "conda create --name st_env\n",
    "conda activate st_env\n",
    "conda install streamlit\n",
    "streamlit hello\n",
    "```"
   ]
  },
  {
   "cell_type": "markdown",
   "metadata": {},
   "source": [
    "\n",
    "Miután a streamlitet feltelepítettük, az alkalmazást \"egyszerű python scriptként\" írjuk meg. (A standard szintaxishoz képest némi változtatással, mert pl. a literálokat, változókat nem kell külön argumentumként megadni, a st.write() függvény mégis kiírja majd őket (\"magic\")).   \n",
    "A streamlit motor fogja értelmezni a scriptet, tehát nem fogjuk tudni pusztán a Python értelmezővel megfelelő működésre bírni.   "
   ]
  },
  {
   "cell_type": "markdown",
   "metadata": {},
   "source": [
    "### A streamlit kód\n",
    "A kód tipikus elemei:\n",
    "```python\n",
    "import streamlit as st\n",
    "...\n",
    "st.write(\"Bármi lehet itt\")\n",
    "st. .... # ide jönnek a streamlit parancsai\n",
    "\n",
    "streamlit run app_name.py\n",
    "```"
   ]
  },
  {
   "cell_type": "markdown",
   "metadata": {},
   "source": [
    "\n",
    "A program futtatására a `streamlit run app_name.py` parancs való, ez a következőket csinálja:  \n",
    "\n",
    "1. Elindít egy Pythonos __streamlit-backendet__, amely az app_name.py programban található Python kód megfelelő (backendes) részeit dolgozza fel\n",
    "2. Futtatja a frontendre vonatkozó utasításokat, létrehozza a __frontend-elemeket__, és összeköti azokat a backend-elemekkel\n",
    "3. Futtatja a __webszervert__.\n",
    "4. Minden widget-interakcióra, illetve a forrás-script változásaira reagál (\"__event-loop__\")\n",
    "5. A változások esetén újra lehívja és értelmezi a script egészét: a definíciókat és a backend-kódot is (ezek egy része néha erőforrás-pocsékolás, ezért van benne cache)   \n",
    "\n",
    "Lássuk mindezt a gyakorlatban!\n",
    "_(Megjegyzés: ne notebookként futtassuk, scriptre van szüksége a motornak!)_"
   ]
  },
  {
   "cell_type": "markdown",
   "metadata": {},
   "source": [
    "### 1. Importálás, kiírás\n",
    "```python \n",
    "import streamlit as st\n",
    "st.write(\"hi, this is streamlit running!:\", st.__version__)\n",
    "```"
   ]
  },
  {
   "cell_type": "markdown",
   "metadata": {
    "vscode": {
     "languageId": "raw"
    }
   },
   "source": [
    "### 2. Widgetek\n",
    "(pl. main1.py)\n",
    "```python\n",
    "import streamlit as st\n",
    "\n",
    "st.title(\"This is a Streamlit TUTORIAL\")\n",
    "st.write(\"hi, this is streamlit running!:\", st.__version__)\n",
    "st.header(\"Some nice st stuff\")\n",
    "chk1 = st.checkbox(\"Do you like streamlit?\")\n",
    "button1 = st.button(\"Submit\")\n",
    "if button1:\n",
    "    if chk1:\n",
    "        st.write(\"Happy to hear that!\")\n",
    "    else:\n",
    "        st.write(\"Grrrr\")\n",
    "\n",
    "st.header(\"Radio buttons\")\n",
    "radio1 = st.radio(\"What is your favourite programming language?\", (\"Python\", \"Java\", \"Rust\", \"Go\", \"C++\", \"Haskell\"))\n",
    "if radio1 == \"Python\":\n",
    "    st.write(\"Good user\")\n",
    "```"
   ]
  },
  {
   "cell_type": "markdown",
   "metadata": {},
   "source": [
    "Az input widgetek visszatérési értékével dolgozhatunk a kódban:\n",
    "Button esetében 'bool', Radio esetén a tuple valamely eleme, checkboxnál is bool s.í.t.\n",
    "(pl. main2.py)\n",
    "\n",
    "Az egyes widgeteket a dokumentáció részletezi példákkal. Itt egy összetett lista:"
   ]
  },
  {
   "cell_type": "markdown",
   "metadata": {
    "vscode": {
     "languageId": "raw"
    }
   },
   "source": [
    "### Az egyes lehetőségek strukturálva:\n",
    "A -- A lap alkotóelemei\n",
    "1. Kiírás: \n",
    "   1. write, write_stream, \"magic\"\n",
    "2. Szöveges elemek:\n",
    "   1. Címek: title, header, subheader, markdown\n",
    "   2. Formázott szövegek: caption (magyarázatok, feliratok), code (megadható a nyelv), divider, echo, latex (raw lstring vagy sympy), text\n",
    "3. Adatelemek\n",
    "   1. Dataframe (interaktív tábla: pandas, pyarrow, snowpark, pyspark), data_editor (szerkesztési lehetőség), table (statikus), metric (mért adat, mértékegységgel és változással), json (json vagy azt tartalmazó string)\n",
    "   2. column_config: a táblázat oszlopainak a konfigurálására; egy dictionary-ben az oszlopnévhez rendelhetünk így leírást\n",
    "4. Diagramok, ábrák\n",
    "   1. Egyszerűek (natív streamlit, pontosabban az Altair syntax-sugar-je): area_chart, bar_chart, line_chart, scatter_chart, map (térképre rakott scatterplot - a szórásdiagram elemei szél/hossz koordinátákat adnak meg, a color és size elemek a pont színét, méretét. A nagyítható, görgethető térképcsempéket a MapBox biztosítja, a szolgáltatáshoz tokent kell igényelni, l. [itt](https://docs.streamlit.io/develop/api-reference/charts/st.map): )\n",
    "   2. Más csomagok beillesztése: altair_chart (Altair-Vega), bokeh_chart (Bokeh), graphviz_chart (gráf megjelenítése), plotly_chart (Plotly), pydeck_chart (3D map - Mapboxtól, pontfelhő, stb.), pyplot (matplotlib), vega_lite_chart (Vega-Lite leírónyelv támogatása)\n",
    "5. Input widgetek:\n",
    "   1. Gombok: button (konfigurálható on_click callback), download_button, form_submit_button, linkbutton, page_link\n",
    "   2. Kiválasztók: checkbox, color_picker, multiselect, radio, selectbox, select_slider, toggle\n",
    "   3. Numerikus: number_input, slider\n",
    "   4. Dátum-idő: date_input, time_input\n",
    "   5. Szöveges: chat_input, text_area, text_input\n",
    "   6. Média, fájl: camera_input, data_editor, file_upload\n",
    "6. Médiaelemek:\n",
    "   1. audio, image, video, logo\n",
    "7. Konténerek, layout:\n",
    "   1. columns, container, dialog, empty, expander, form, popover, sidebar, tabs\n",
    "8. Chat elemek:\n",
    "   1. chat_input, chat_message, status, write_stream\n",
    "9. Státusz:\n",
    "   1.  Callout üzenetek: success, info, warning, error, exception\n",
    "   2.  Egyéb: progress (bar), spinner (türelemkérő üzenet), status (egy konténer a státuszüzeneteknek), toast (4 mp-es státuszüzenet jobb alul), balloons (ünneplő lufik), snow (ünneplő hóesés)\n",
    "  \n",
    "B -- Alkalmazás logika\n",
    "1. Navigáció és lapok: navigation, Page, page_link, switch_page\n",
    "2. Végrehajtási logika: dialog (önálló modal), form (több beivteli elem egységét képzi, a form_submit gomb lenyomásáig nincs feldolgozás), form_submit_button, fragment (dekorátor, a függvényt egy töredék, önálló feldogozásúva alakítja, hogy ne kelljen mindig az egész oldalt újra futtatni), rerun, stop \n",
    "3. Cache és állapot: cache_data, cache_resource, session_state, query_params\n",
    "4. Connections: secrets, secrets.toml, connection, SnowflaeConnection, SQLCOnnection, BaseConnection, SnowparkConnection\n",
    "5. Egyedi komponensek: components.v1.declare_component, components.v1.html (html-t iframe-be), components.v1.iframe (remote URL-t iframe-be)\n",
    "6. Segédeszközök: experimental_user (felhasználói adatok), help (egy objektumról), html (custom HTML; JS nem támogatott - veszélyes!)\n",
    "7. Konfiguráció: \n",
    "   1. config.toml: global, logger, client, runner, server, browser, mapbox, deprecation, theme\n",
    "   2. get_option\n",
    "   3. set_option\n",
    "   4. set_page_config"
   ]
  },
  {
   "cell_type": "markdown",
   "metadata": {},
   "source": [
    "### Layout meghatározása\n",
    "<style>\n",
    "img {    \n",
    "    width: 1000px;\n",
    "    margin: 20px auto;    \n",
    "    padding: 0.2em;\n",
    "    border: 3px white solid;\n",
    "    display: block;\n",
    "    }\n",
    " </style>\n",
    "<img src=\"str_layout.png\">"
   ]
  },
  {
   "cell_type": "markdown",
   "metadata": {},
   "source": [
    "### Tipikus layout-példák"
   ]
  },
  {
   "cell_type": "markdown",
   "metadata": {},
   "source": [
    "__Sidebar__   \n",
    "(Bal) oldalsó elem. Meg kell mondani, itt milyen streamlit-elem szerepeljen, ehhez a dot-notationt használjuk (objektum-jelölés), \n",
    "vagy pedig a `with˙ kulcsszót:\n",
    "```python\n",
    "\n",
    "def clean_text(text):\n",
    "    cleaned = text.replace(\"`\", \"\").replace(\"-\\n\", \"\").replace(\"\\n\", \" \").strip()\n",
    "    return cleaned\n",
    "\n",
    "st.sidebar.header(\"This is the header\")\n",
    "text = st.sidebar.text_area(\"Paste text here\")\n",
    "button1 = st.sidebar.button(\"Clean text\")\n",
    "if button1:\n",
    "    st.write(text)\n",
    "    clean = clean_text(text)\n",
    "    st.write(clean)\n",
    "```"
   ]
  },
  {
   "cell_type": "markdown",
   "metadata": {},
   "source": [
    "__Columns__   \n",
    "Egy adott részt több oszlopba rendez (ezek megadhatók egy számmal, vagy egy iterable-ben felsorolhatjuk az oszlopok relatív szélességét).   \n",
    "_Az oszlopok (egy szint erejéig) egymásba ágyazhatók a fő területen._   \n",
    "A fenti kódban cseréljük ki a button1 alatti részt:\n",
    "```python\n",
    "if button1:\n",
    "    col1, col2, col3 = st.columns((0.3, 0.6, 0.1))\n",
    "    col1.header(\"Original text\")\n",
    "    col1.write(text)\n",
    "    col2.header(\"Sanitized text\")\n",
    "    col2.write(clean)\n",
    "    col3.caption(\"Cool!\")\n",
    "```"
   ]
  },
  {
   "cell_type": "markdown",
   "metadata": {},
   "source": [
    "__Expander__    \n",
    "Egy kinyitható elem, ami alapértelmezetten nem kell, hogy foglalja a képernyőterületet.   \n",
    "Ugyancsak a button1 alatti részt módosítsuk:   \n",
    "```python\n",
    "if button1:\n",
    "    col1, col2 = st.columns(2)\n",
    "    col1_expander = col1.expander(\"Click to see original\")\n",
    "\n",
    "    col1_expander.header(\"Original Text\")\n",
    "    col1_expander.write(text)\n",
    "    col2.header(\"Sanitized text\")\n",
    "    clean = clean_text(text)\n",
    "    col2.write(clean)\n",
    "```"
   ]
  },
  {
   "cell_type": "markdown",
   "metadata": {},
   "source": [
    "__Container__\n",
    "\n",
    "A container egy olyan layout-megoldás, amellyel az elem létrehozásának és megjelenésének sorrendje befolyásolható ('out-of-order execution', pl. egy gomb megnyomásával létrehozott adat megjeleníttethető a gomb \"előtt\").   \n",
    "A container nem látható elem, de összefog több elemet.\n",
    "\n",
    "pl: main3.py\n",
    "main7.py"
   ]
  },
  {
   "cell_type": "markdown",
   "metadata": {},
   "source": [
    "__with__   \n",
    "Próbálkozzunk meg a `with` szintaxissal is:\n",
    "```python\n",
    "if button1:\n",
    "    col1, col2 = st.columns(2)\n",
    "    col1_expander = col1.expander(\"Expand Original\")\n",
    "    with col1_expander:\n",
    "        st.write(text)\n",
    "    col2_expander = col2.expander(\"Expand Cleaned\")\n",
    "    clean = clean_text(text)\n",
    "    col2_expander.write(clean)\n",
    "```"
   ]
  },
  {
   "cell_type": "markdown",
   "metadata": {},
   "source": [
    "## Statikus fájlok\n",
    "\n",
    "A fő alkalmazás alatt létrehozott /static folderbe célszerű rakni ezeket, pl. médiafájlokat, ez a konvenció.   \n",
    "Amíg fejlesztés közben a saját gépünkön dolgozunk, a dolgok gördülékenyek.    \n",
    "Felhőbe/távoli gépre deployolás esetén a streamlit szerver csak olyan felhasználói fájlokhoz fér hozzá, amiket a felhasználó feltöltött a streamliten keresztül."
   ]
  },
  {
   "cell_type": "markdown",
   "metadata": {},
   "source": [
    "Az __image__ használata magától értetődő:\n",
    "```python\n",
    "st.sidebar.image(\"https://www.python.org/static/community_logos/python-logo-master-v3-TM.png\", width=\"200\", caption=\"The Python Logo\")\n",
    "```"
   ]
  },
  {
   "cell_type": "markdown",
   "metadata": {},
   "source": [
    "### Küzdelem a lassúsággal 1: Formok\n",
    "<style>\n",
    "img {    \n",
    "    width: 600px;\n",
    "    margin: 20px auto;    \n",
    "    padding: 0.2em;\n",
    "    border: 3px white solid;\n",
    "    display: block;\n",
    "    }\n",
    " </style>\n",
    "<img src=\"form1.png\">\n"
   ]
  },
  {
   "cell_type": "markdown",
   "metadata": {},
   "source": [
    "\n",
    "Hogy ne kelljen minden adatelem-változás után a streamlitnek futtatni az egész (esetleg lassú) scriptet, egyes elemeket \"becsomagolunk\" a formba; ehhez tartozik egy form-submit-button, csak ennek elküldésével lesz újra futtatva a script, addig a beviteli adatokkal nyugodtan szórakozhatunk.   \n",
    "elemek: form és form_submit_button, illetve minden egyéb widget a form mint wrapper alatt.\n",
    "_(pl: main3.py form nélkül, main4.py formmal)_"
   ]
  },
  {
   "cell_type": "markdown",
   "metadata": {},
   "source": [
    "### Küzdelem a lassúsággal 2: [Cache](https://docs.streamlit.io/develop/concepts/architecture/caching)-elés, @st.cache_data, @st.cache_resource\n",
    "<style>\n",
    "img {    \n",
    "    width: 1000px;\n",
    "    margin: 20px auto;    \n",
    "    padding: 0.2em;\n",
    "    border: 3px white solid;\n",
    "    display: block;\n",
    "    }\n",
    " </style>\n",
    "<img src=\"stcache.png\">\n",
    "\n",
    "_(l. pl. main5.py)_"
   ]
  },
  {
   "cell_type": "markdown",
   "metadata": {},
   "source": [
    "\n",
    "Amikor a streamlit észreveszi, hogy változott valami az oldalon, akkor rögtön újrafuttatja az oldal renderelését. Ha ebben van olyan függvény, vagy lépés, ami sokáig tart, akkor minden egyes interakciónál erre várni kell. Ez nem hatékony. Ha form elemekről beszélünk, a formok kezelésében előrelépést láttunk az előző lépésben. Ha azonban nem formokról van szó, más megoldásra lesz szükség.   \n",
    "Ez pedig a cache-elés: ilyen erőforrásokat a sessionben újrahasznosítunk, nem pedig minden alkalommal futtatunk.   \n",
    "A cache-eléshez dekorátort használunk. Olyan függvény elé tesszük, amely az:\n",
    "- erőforrást létrehozza/megnyitja/betölti/kapcsolódik hozzá (@st.cache_resource dekorátor - non-serializable objektumokra); ha az erőforrás már elő lett állítva, és a hivatkozás a cache-ben van, a streamlit ehhez hozzáférést ad.\n",
    "- a lassú számítást elvégzi (@st.cache_data dekorátor - serializable objektumokra) - hogy érdemes-e újra futtatni, ahhoz a streamlit megnézi, hogy a törzsben vagy a bemenő paraméterekben történt-e változás, ha nem, a kimenet ugyanaz lesz, mint ami a cache-ben van.\n",
    "\n",
    "Nagyon hasznos olyan alkalmazásoknál, amikor pl. nagy modellekkel dolgozunk (Detectron for CV, BERT for NLP, Transformers stb.)"
   ]
  },
  {
   "cell_type": "markdown",
   "metadata": {},
   "source": [
    "### Session_state használata\n",
    "<style>\n",
    "img {    \n",
    "    width: 700px;\n",
    "    margin: 20px auto;    \n",
    "    padding: 0.2em;\n",
    "    border: 3px white solid;\n",
    "    display: block;\n",
    "    }\n",
    " </style>\n",
    "<img src=\"session_state.png\">"
   ]
  },
  {
   "cell_type": "markdown",
   "metadata": {},
   "source": [
    "\n",
    "A Session state lehetőséget ad rá, hogy egy változótartalmat megőrizzünk az egyes Rerun-ok között.\n",
    "A Session state egy Python objektum (dictionary-szerű); a state megmarad, amíg a tab nyitva van, és a frontend és backend kapcsolatban állnak, és a widget kommunikálni tud a backenddel. \n",
    "Új tab nyitásakor új session keletkezik.   \n",
    "A state arra jó, hogy a widgetek, paraméterek értékét tudjuk tárolni (akár későbbi felhasználásra). "
   ]
  },
  {
   "cell_type": "markdown",
   "metadata": {},
   "source": [
    "Jelölések: dictionary / attribute\n",
    "```python\n",
    "st.session_state[\"a_counter\"] = 0\n",
    "st.session_state.boolean = False\n",
    "st.write(st.session_state)\n",
    "st.slider(\"Select your level\", 1, 10, 5, key=\"user_level\")\n",
    "# { \"a_counter\": 0, \"boolean\": False}\n",
    "```\n",
    "A session_state objektumot dictionary interfésszel mi magunk kezelhetjük, de még kényelmesebb, hogy minden widget, amelynél létrehozáskor megadjuk a `key` argumentumot, ezzel a kulccsal a session_state objektumba bekerül. Hát nem csodálatos?   \n",
    "\n",
    "_pl: main6.py_ - de előbb egy kis Singleton!"
   ]
  },
  {
   "cell_type": "markdown",
   "metadata": {},
   "source": [
    "### Singleton pattern (!)\n",
    "<style>\n",
    "img {    \n",
    "    width: 600px;\n",
    "    margin: 20px auto;    \n",
    "    padding: 0.2em;\n",
    "    border: 3px white solid;\n",
    "    display: block;\n",
    "    }\n",
    " </style>\n",
    "<img src=\"singleton1.png\">\n",
    "\n",
    "<img src=\"singleton2.png\">"
   ]
  },
  {
   "cell_type": "markdown",
   "metadata": {},
   "source": [
    "### Callbackek használata\n",
    "\n",
    "Egyedi eseménykezelőt is írhatunk: `on_change` (slider, number_input stb.) és `on_click` (button, form_submit_button stb.) eseményekre.   \n",
    "A widget paramétereként kell megadni azt a függvénynevet, amit Rerun előtt a streamlit futtat, amikor az eseményt észleli. Megadható args és kwargs is.   \n",
    "\n",
    "```python\n",
    "st.button(\"Increment by 2\", on_click=increment_counter, kwargs=dict(incr_val=2))\n",
    "```\n",
    "<style>\n",
    "img {    \n",
    "    width: 600px;\n",
    "    margin: 20px auto;    \n",
    "    padding: 0.2em;\n",
    "    border: 3px white solid;\n",
    "    display: block;\n",
    "    }\n",
    " </style>\n",
    "<img src=\"callbacks.png\">"
   ]
  },
  {
   "cell_type": "markdown",
   "metadata": {},
   "source": [
    "\n",
    "A callbackek a session_state-be is írhatnak, onnan olvashatnak.   \n",
    "Input-only widgeteknél a létrehozáskor megadhatunk ugyan értéket, de később a session state-ben nem (egy ilyen widget arra van kitalálva, hogy a felhasználó a UI-on keresztül módosíthassa), ilyen kísérletre hibát kapunk.    \n",
    "\n",
    "A callbackkel szépen megoldható, hogy az oldalunk változásaira más (output, i-o widgetek) reagáljanak, pl. egy kg-lb konverternél."
   ]
  },
  {
   "cell_type": "markdown",
   "metadata": {},
   "source": [
    "### Multipage app létrehozása\n",
    "\n",
    "<style>\n",
    "img {    \n",
    "    width: 600px;\n",
    "    margin: 20px auto;    \n",
    "    padding: 0.2em;\n",
    "    border: 3px white solid;\n",
    "    display: block;\n",
    "    }\n",
    " </style>\n",
    "<img src=\"mpa.png\">"
   ]
  },
  {
   "cell_type": "markdown",
   "metadata": {},
   "source": [
    "\n",
    "Ahogy nő az alkalmazás, célszerűbb egy nehezen navigálható SPA helyett adott struktúrába rendezve több kisebb, önálló oldalból és egy \"vezérlő belépési pont\" oldalból felépíteni a könnyen navigálható alkalmazást.\n",
    "\n",
    "\n",
    "Az elvárt struktúra:\n",
    "- a fő alkalmazásunk (main_mpa.py) mappájában dolgozzunk\n",
    "- hozzunk létre egy subfoldert 'pages' néven az egyes oldalaknak, \n",
    "- mindegyik oldal külön .py streamlit app lesz\n",
    "- végül futtassuk a main_mpa.py alkamazást: `streamlit run main_mpa.py`\n",
    "\n",
    "A streamlit automatikusan rendereli a megfelelő elemeket - ez nyilván nem rugalmas, cserébe végtelenül egyszerű\n",
    "pl: main8, /pages: page1, page2, page3\n"
   ]
  },
  {
   "cell_type": "markdown",
   "metadata": {},
   "source": [
    "### Kiegészítő komponensek\n",
    "- streamlit pandas - pandashoz kiegészítés, teljesen a pandast értő streamlit-alkalmazás készül; egyes widgeteket testreszabhatunk, a típusát változtathatjuk, kihagyhatunk oszlopokat\n",
    "- extras, components: "
   ]
  },
  {
   "cell_type": "markdown",
   "metadata": {},
   "source": [
    "### Egy összetettebb alkalmazás\n",
    "\n",
    "main: két aloldalt nyisson meg, az egyik egy űrlap, ami adatainkat kéri be és szöveges outputot készít, a másik egy dashboard, ahol legalább 3 különféle paramétert beadhatunk, és egy táblázatos és egy grafikus eredményt kapunk kézhez.\n",
    "_pl main10.py_"
   ]
  },
  {
   "cell_type": "markdown",
   "metadata": {},
   "source": [
    "### Deployolás \"máshova\" (azaz nem a saját gépen, dev üzemmódban akarjuk csak futtatni)\n",
"\n",
"l. a dokumentációt.\n"
   ]
  }
 ],
 "metadata": {
  "kernelspec": {
   "display_name": "Python 3",
   "language": "python",
   "name": "python3"
  },
  "language_info": {
   "codemirror_mode": {
    "name": "ipython",
    "version": 3
   },
   "file_extension": ".py",
   "mimetype": "text/x-python",
   "name": "python",
   "nbconvert_exporter": "python",
   "pygments_lexer": "ipython3",
   "version": "3.12.0"
  }
 },
 "nbformat": 4,
 "nbformat_minor": 2
}
